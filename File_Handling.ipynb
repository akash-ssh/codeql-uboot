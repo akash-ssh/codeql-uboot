{
  "nbformat": 4,
  "nbformat_minor": 0,
  "metadata": {
    "colab": {
      "provenance": [],
      "authorship_tag": "ABX9TyN/sMf5lLAuDu+9P5t7seQr",
      "include_colab_link": true
    },
    "kernelspec": {
      "name": "python3",
      "display_name": "Python 3"
    },
    "language_info": {
      "name": "python"
    }
  },
  "cells": [
    {
      "cell_type": "markdown",
      "metadata": {
        "id": "view-in-github",
        "colab_type": "text"
      },
      "source": [
        "<a href=\"https://colab.research.google.com/github/akash-ssh/codeql-uboot/blob/master/File_Handling.ipynb\" target=\"_parent\"><img src=\"https://colab.research.google.com/assets/colab-badge.svg\" alt=\"Open In Colab\"/></a>"
      ]
    },
    {
      "cell_type": "markdown",
      "source": [
        "In this we are going to understand the methods and applications of File Handling"
      ],
      "metadata": {
        "id": "BNF6tD-7nMaB"
      }
    },
    {
      "cell_type": "code",
      "source": [
        "test = open('text.txt','w')"
      ],
      "metadata": {
        "id": "YwXU0mVmnYv9"
      },
      "execution_count": 17,
      "outputs": []
    },
    {
      "cell_type": "markdown",
      "source": [
        "So file has many mode like create, append , read , write , truncate etc.\n",
        "\n",
        "Creating a new file using 'x' mode which create new file if the name doesn't exist in the directory. \n",
        "\n",
        "PS : We can also use 'w' mode to do the same but it doesn't through any error if the file exists .It simply write in the existing file .\n",
        "\n",
        "Now we have created a file we need to add some texts to it ."
      ],
      "metadata": {
        "id": "E3cDmON9qJHk"
      }
    },
    {
      "cell_type": "code",
      "source": [
        "test.write('This is the first line.\\nThis is the second line.\\nThis is the last line\\n')\n",
        "test.close()"
      ],
      "metadata": {
        "id": "fen9f9btpLOe"
      },
      "execution_count": 18,
      "outputs": []
    },
    {
      "cell_type": "markdown",
      "source": [
        "Remember when you Simply write a file you need to close the file after you write in it only then the written file will be saved. "
      ],
      "metadata": {
        "id": "t-rlkSYxtzYM"
      }
    },
    {
      "cell_type": "code",
      "source": [
        "test=open('/content/text.txt')\n",
        "test.read()\n"
      ],
      "metadata": {
        "colab": {
          "base_uri": "https://localhost:8080/",
          "height": 35
        },
        "id": "t2MX0vwZrvTK",
        "outputId": "fb83fe2a-1091-48d2-879c-72016fb6d811"
      },
      "execution_count": 39,
      "outputs": [
        {
          "output_type": "execute_result",
          "data": {
            "text/plain": [
              "'This is the first line.\\nThis is the second line.\\nThis is the last line\\n'"
            ],
            "application/vnd.google.colaboratory.intrinsic+json": {
              "type": "string"
            }
          },
          "metadata": {},
          "execution_count": 39
        }
      ]
    },
    {
      "cell_type": "code",
      "source": [
        "print(test.read())\n",
        "test.close()"
      ],
      "metadata": {
        "colab": {
          "base_uri": "https://localhost:8080/"
        },
        "id": "mXGO3b4kwAA6",
        "outputId": "d85d5dd4-f514-44b8-a2fe-3bdf38ba6998"
      },
      "execution_count": 40,
      "outputs": [
        {
          "output_type": "stream",
          "name": "stdout",
          "text": [
            "\n"
          ]
        }
      ]
    },
    {
      "cell_type": "markdown",
      "source": [
        "Here we can see if the file.read function id called twice .It Returns empty string , As the file has already been read. \n",
        "\n",
        "To solve this issue we can use .readline which return one line at a time."
      ],
      "metadata": {
        "id": "UGJ3ScVNwLMg"
      }
    },
    {
      "cell_type": "code",
      "source": [
        "test=open('/content/text.txt')\n",
        "print('first line: ',test.readline())\n",
        "print('second line: ',test.readline())\n",
        "print('third line: ',test.readline())\n",
        "test.close()"
      ],
      "metadata": {
        "colab": {
          "base_uri": "https://localhost:8080/"
        },
        "id": "UPE4sOOjxKOl",
        "outputId": "b81429dc-6dca-4265-f29d-8c3ccff53582"
      },
      "execution_count": 41,
      "outputs": [
        {
          "output_type": "stream",
          "name": "stdout",
          "text": [
            "first line:  This is the first line.\n",
            "\n",
            "second line:  This is the second line.\n",
            "\n",
            "third line:  This is the last line\n",
            "\n"
          ]
        }
      ]
    },
    {
      "cell_type": "markdown",
      "source": [
        "Ahh but dont you think that this method is too complex .Either we have to call once and read improperly or we have to call .readline again and again.\n",
        "\n",
        "Lets try to solve this issue !"
      ],
      "metadata": {
        "id": "ppeJdr0Z1KUJ"
      }
    },
    {
      "cell_type": "code",
      "source": [
        "test = open('/content/text.txt')\n",
        "for x in test:\n",
        "  print(x)\n",
        "test.close()"
      ],
      "metadata": {
        "colab": {
          "base_uri": "https://localhost:8080/"
        },
        "id": "T1sSWEyj1kvp",
        "outputId": "ae3caaa4-9e16-484f-f276-01937a1bc9de"
      },
      "execution_count": 44,
      "outputs": [
        {
          "output_type": "stream",
          "name": "stdout",
          "text": [
            "This is the first line.\n",
            "\n",
            "This is the second line.\n",
            "\n",
            "This is the last line\n",
            "\n"
          ]
        }
      ]
    },
    {
      "cell_type": "markdown",
      "source": [
        "That really looks good ,right ? \n",
        "\n",
        "Now suppose we want to add/append some texts or line in this file "
      ],
      "metadata": {
        "id": "Vv_sNyzG7i8G"
      }
    },
    {
      "cell_type": "code",
      "source": [
        "test=open(\"/content/text.txt\",'a')\n",
        "test.write(\"This is the last line\")\n",
        "test.close()"
      ],
      "metadata": {
        "id": "lar1D1ih8VlO"
      },
      "execution_count": 47,
      "outputs": []
    },
    {
      "cell_type": "markdown",
      "source": [
        "Lets run again to see if the new line is added."
      ],
      "metadata": {
        "id": "MC-km0Ya83_D"
      }
    },
    {
      "cell_type": "code",
      "source": [
        "test = open('/content/text.txt')\n",
        "for x in test:\n",
        "  print(x)\n",
        "test.close()"
      ],
      "metadata": {
        "colab": {
          "base_uri": "https://localhost:8080/"
        },
        "id": "JdV1VfZi9A5i",
        "outputId": "7ef68d2b-dcb1-433d-f757-a8e38325b803"
      },
      "execution_count": 48,
      "outputs": [
        {
          "output_type": "stream",
          "name": "stdout",
          "text": [
            "This is the first line.\n",
            "\n",
            "This is the second line.\n",
            "\n",
            "This is the last line\n",
            "\n",
            "This is the last line\n"
          ]
        }
      ]
    },
    {
      "cell_type": "code",
      "source": [
        "test=open(\"/content/text.txt\",'w+')\n",
        "test.close()"
      ],
      "metadata": {
        "id": "GVqY6ipAryED"
      },
      "execution_count": 15,
      "outputs": []
    },
    {
      "cell_type": "markdown",
      "source": [
        "The mode 'w+' is used to truncate the file ."
      ],
      "metadata": {
        "id": "CtPe-nJsvW2G"
      }
    },
    {
      "cell_type": "code",
      "source": [
        "test.close()"
      ],
      "metadata": {
        "id": "v3_XlPehtn6Z"
      },
      "execution_count": 38,
      "outputs": []
    },
    {
      "cell_type": "markdown",
      "source": [
        "So hence this comes the end of this session of basic File handlings .\n",
        "Hope it hepled somehow to understand the basics . Feel free to connect ."
      ],
      "metadata": {
        "id": "Fgr6YTc0EDRo"
      }
    },
    {
      "cell_type": "code",
      "source": [],
      "metadata": {
        "id": "clgb2Hl6EUAl"
      },
      "execution_count": null,
      "outputs": []
    }
  ]
}