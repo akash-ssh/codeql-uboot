{
  "nbformat": 4,
  "nbformat_minor": 0,
  "metadata": {
    "colab": {
      "name": "Predicting a Startups Profit/Success Rate",
      "provenance": [],
      "authorship_tag": "ABX9TyNTlvDJ2JvXkhnLEED7g3Kf",
      "include_colab_link": true
    },
    "kernelspec": {
      "name": "python3",
      "display_name": "Python 3"
    },
    "language_info": {
      "name": "python"
    }
  },
  "cells": [
    {
      "cell_type": "markdown",
      "metadata": {
        "id": "view-in-github",
        "colab_type": "text"
      },
      "source": [
        "<a href=\"https://colab.research.google.com/github/akash-ssh/codeql-uboot/blob/master/Predicting_a_Startups_Profit_Success_Rate.ipynb\" target=\"_parent\"><img src=\"https://colab.research.google.com/assets/colab-badge.svg\" alt=\"Open In Colab\"/></a>"
      ]
    },
    {
      "cell_type": "markdown",
      "metadata": {
        "id": "fdpKxDMEUiTb"
      },
      "source": [
        "Predicting a Startups Profit/Success Rate using Multiple Linear Regression in Python in given 50 Startups Dataset"
      ]
    },
    {
      "cell_type": "markdown",
      "metadata": {
        "id": "h4I20jDjwy5n"
      },
      "source": [
        "Task-8 \n",
        "\n",
        "Akash \n",
        "reg no : GO_STP_4114\n",
        "\n",
        "LinearRegression multiple variable "
      ]
    },
    {
      "cell_type": "code",
      "metadata": {
        "id": "hKtUvbi6UquT"
      },
      "source": [
        "import pandas as pd\n",
        "import numpy as np \n",
        "import matplotlib.pyplot as plt \n",
        "import sklearn\n",
        "from sklearn.linear_model import LinearRegression\n",
        "from sklearn.model_selection import train_test_split"
      ],
      "execution_count": 55,
      "outputs": []
    },
    {
      "cell_type": "code",
      "metadata": {
        "colab": {
          "base_uri": "https://localhost:8080/",
          "height": 206
        },
        "id": "EKPuXgIUU6z5",
        "outputId": "5641ea45-db3f-4709-ca52-6a0a430dd9b1"
      },
      "source": [
        "data = pd.read_csv('/content/50_Startups (1).csv')\n",
        "data.head()"
      ],
      "execution_count": 56,
      "outputs": [
        {
          "output_type": "execute_result",
          "data": {
            "text/html": [
              "<div>\n",
              "<style scoped>\n",
              "    .dataframe tbody tr th:only-of-type {\n",
              "        vertical-align: middle;\n",
              "    }\n",
              "\n",
              "    .dataframe tbody tr th {\n",
              "        vertical-align: top;\n",
              "    }\n",
              "\n",
              "    .dataframe thead th {\n",
              "        text-align: right;\n",
              "    }\n",
              "</style>\n",
              "<table border=\"1\" class=\"dataframe\">\n",
              "  <thead>\n",
              "    <tr style=\"text-align: right;\">\n",
              "      <th></th>\n",
              "      <th>R&amp;D Spend</th>\n",
              "      <th>Administration</th>\n",
              "      <th>Marketing Spend</th>\n",
              "      <th>State</th>\n",
              "      <th>Profit</th>\n",
              "    </tr>\n",
              "  </thead>\n",
              "  <tbody>\n",
              "    <tr>\n",
              "      <th>0</th>\n",
              "      <td>165349.20</td>\n",
              "      <td>136897.80</td>\n",
              "      <td>471784.10</td>\n",
              "      <td>New York</td>\n",
              "      <td>192261.83</td>\n",
              "    </tr>\n",
              "    <tr>\n",
              "      <th>1</th>\n",
              "      <td>162597.70</td>\n",
              "      <td>151377.59</td>\n",
              "      <td>443898.53</td>\n",
              "      <td>California</td>\n",
              "      <td>191792.06</td>\n",
              "    </tr>\n",
              "    <tr>\n",
              "      <th>2</th>\n",
              "      <td>153441.51</td>\n",
              "      <td>101145.55</td>\n",
              "      <td>407934.54</td>\n",
              "      <td>Florida</td>\n",
              "      <td>191050.39</td>\n",
              "    </tr>\n",
              "    <tr>\n",
              "      <th>3</th>\n",
              "      <td>144372.41</td>\n",
              "      <td>118671.85</td>\n",
              "      <td>383199.62</td>\n",
              "      <td>New York</td>\n",
              "      <td>182901.99</td>\n",
              "    </tr>\n",
              "    <tr>\n",
              "      <th>4</th>\n",
              "      <td>142107.34</td>\n",
              "      <td>91391.77</td>\n",
              "      <td>366168.42</td>\n",
              "      <td>Florida</td>\n",
              "      <td>166187.94</td>\n",
              "    </tr>\n",
              "  </tbody>\n",
              "</table>\n",
              "</div>"
            ],
            "text/plain": [
              "   R&D Spend  Administration  Marketing Spend       State     Profit\n",
              "0  165349.20       136897.80        471784.10    New York  192261.83\n",
              "1  162597.70       151377.59        443898.53  California  191792.06\n",
              "2  153441.51       101145.55        407934.54     Florida  191050.39\n",
              "3  144372.41       118671.85        383199.62    New York  182901.99\n",
              "4  142107.34        91391.77        366168.42     Florida  166187.94"
            ]
          },
          "metadata": {
            "tags": []
          },
          "execution_count": 56
        }
      ]
    },
    {
      "cell_type": "code",
      "metadata": {
        "colab": {
          "base_uri": "https://localhost:8080/",
          "height": 206
        },
        "id": "xY5HsF2jVrVk",
        "outputId": "e47c069c-a2e8-4f11-de39-41dd9f1b6d19"
      },
      "source": [
        "x=data.drop(['Profit'],axis =1)\n",
        "x=x.drop(['State'],axis=1 )\n",
        "x.head()"
      ],
      "execution_count": 57,
      "outputs": [
        {
          "output_type": "execute_result",
          "data": {
            "text/html": [
              "<div>\n",
              "<style scoped>\n",
              "    .dataframe tbody tr th:only-of-type {\n",
              "        vertical-align: middle;\n",
              "    }\n",
              "\n",
              "    .dataframe tbody tr th {\n",
              "        vertical-align: top;\n",
              "    }\n",
              "\n",
              "    .dataframe thead th {\n",
              "        text-align: right;\n",
              "    }\n",
              "</style>\n",
              "<table border=\"1\" class=\"dataframe\">\n",
              "  <thead>\n",
              "    <tr style=\"text-align: right;\">\n",
              "      <th></th>\n",
              "      <th>R&amp;D Spend</th>\n",
              "      <th>Administration</th>\n",
              "      <th>Marketing Spend</th>\n",
              "    </tr>\n",
              "  </thead>\n",
              "  <tbody>\n",
              "    <tr>\n",
              "      <th>0</th>\n",
              "      <td>165349.20</td>\n",
              "      <td>136897.80</td>\n",
              "      <td>471784.10</td>\n",
              "    </tr>\n",
              "    <tr>\n",
              "      <th>1</th>\n",
              "      <td>162597.70</td>\n",
              "      <td>151377.59</td>\n",
              "      <td>443898.53</td>\n",
              "    </tr>\n",
              "    <tr>\n",
              "      <th>2</th>\n",
              "      <td>153441.51</td>\n",
              "      <td>101145.55</td>\n",
              "      <td>407934.54</td>\n",
              "    </tr>\n",
              "    <tr>\n",
              "      <th>3</th>\n",
              "      <td>144372.41</td>\n",
              "      <td>118671.85</td>\n",
              "      <td>383199.62</td>\n",
              "    </tr>\n",
              "    <tr>\n",
              "      <th>4</th>\n",
              "      <td>142107.34</td>\n",
              "      <td>91391.77</td>\n",
              "      <td>366168.42</td>\n",
              "    </tr>\n",
              "  </tbody>\n",
              "</table>\n",
              "</div>"
            ],
            "text/plain": [
              "   R&D Spend  Administration  Marketing Spend\n",
              "0  165349.20       136897.80        471784.10\n",
              "1  162597.70       151377.59        443898.53\n",
              "2  153441.51       101145.55        407934.54\n",
              "3  144372.41       118671.85        383199.62\n",
              "4  142107.34        91391.77        366168.42"
            ]
          },
          "metadata": {
            "tags": []
          },
          "execution_count": 57
        }
      ]
    },
    {
      "cell_type": "code",
      "metadata": {
        "colab": {
          "base_uri": "https://localhost:8080/",
          "height": 0
        },
        "id": "dXsBXzi3V5CO",
        "outputId": "c9acf511-70cb-4535-8e08-612b5fa9aae1"
      },
      "source": [
        "y= data['Profit']\n",
        "y.head()"
      ],
      "execution_count": 58,
      "outputs": [
        {
          "output_type": "execute_result",
          "data": {
            "text/plain": [
              "0    192261.83\n",
              "1    191792.06\n",
              "2    191050.39\n",
              "3    182901.99\n",
              "4    166187.94\n",
              "Name: Profit, dtype: float64"
            ]
          },
          "metadata": {
            "tags": []
          },
          "execution_count": 58
        }
      ]
    },
    {
      "cell_type": "code",
      "metadata": {
        "id": "56bX-7XaWIwN"
      },
      "source": [
        "xtrain,xtest,ytrain,ytest= train_test_split(x,y,test_size=0.33, random_state=42)"
      ],
      "execution_count": 59,
      "outputs": []
    },
    {
      "cell_type": "code",
      "metadata": {
        "colab": {
          "base_uri": "https://localhost:8080/",
          "height": 0
        },
        "id": "xd-M9yEfXTMJ",
        "outputId": "f6e2b792-541c-46a4-fbd4-018947962fb9"
      },
      "source": [
        "model= LinearRegression()\n",
        "model.fit(xtrain,ytrain)"
      ],
      "execution_count": 60,
      "outputs": [
        {
          "output_type": "execute_result",
          "data": {
            "text/plain": [
              "LinearRegression(copy_X=True, fit_intercept=True, n_jobs=None, normalize=False)"
            ]
          },
          "metadata": {
            "tags": []
          },
          "execution_count": 60
        }
      ]
    },
    {
      "cell_type": "code",
      "metadata": {
        "colab": {
          "base_uri": "https://localhost:8080/",
          "height": 0
        },
        "id": "PtamDlHiXgOc",
        "outputId": "8e382360-7146-47c9-931e-483ae98893f4"
      },
      "source": [
        "x_predict=model.predict(xtrain)\n",
        "x_predict"
      ],
      "execution_count": 61,
      "outputs": [
        {
          "output_type": "execute_result",
          "data": {
            "text/plain": [
              "array([ 56402.66291282,  44662.26456542, 145336.80478009, 154889.9017787 ,\n",
              "       116286.75171909, 113666.66045984,  86299.75003662,  94780.36898659,\n",
              "       191153.87682868,  61610.20367018, 113719.29070389,  98345.56595112,\n",
              "       164238.61550571,  98902.01390558, 136524.83935112,  74414.00041564,\n",
              "       186867.93950168, 114908.94446189, 182747.36316976,  58835.45625464,\n",
              "        92023.90935708, 110481.67870416,  74355.23662242, 135285.33995967,\n",
              "       114151.69389311, 128840.1555217 ,  47609.76764627, 116580.99658667,\n",
              "       157882.6746786 ,  71423.9570347 , 146611.56119261,  97059.7490866 ,\n",
              "        72411.12475735])"
            ]
          },
          "metadata": {
            "tags": []
          },
          "execution_count": 61
        }
      ]
    },
    {
      "cell_type": "code",
      "metadata": {
        "colab": {
          "base_uri": "https://localhost:8080/",
          "height": 0
        },
        "id": "BV5nDO2LhpGJ",
        "outputId": "7bdac747-002c-46a4-e92f-91d5b2c37d8b"
      },
      "source": [
        "ytest"
      ],
      "execution_count": 62,
      "outputs": [
        {
          "output_type": "execute_result",
          "data": {
            "text/plain": [
              "13    134307.35\n",
              "39     81005.76\n",
              "30     99937.59\n",
              "45     64926.08\n",
              "17    125370.37\n",
              "48     35673.41\n",
              "26    105733.54\n",
              "25    107404.34\n",
              "32     97427.84\n",
              "19    122776.86\n",
              "12    141585.52\n",
              "4     166187.94\n",
              "37     89949.14\n",
              "8     152211.77\n",
              "3     182901.99\n",
              "6     156122.51\n",
              "41     77798.83\n",
              "Name: Profit, dtype: float64"
            ]
          },
          "metadata": {
            "tags": []
          },
          "execution_count": 62
        }
      ]
    },
    {
      "cell_type": "code",
      "metadata": {
        "id": "JqSbl4MBht4E"
      },
      "source": [
        ""
      ],
      "execution_count": 80,
      "outputs": []
    },
    {
      "cell_type": "code",
      "metadata": {
        "colab": {
          "base_uri": "https://localhost:8080/",
          "height": 0
        },
        "id": "2fL7DKbUkEmT",
        "outputId": "addf886f-cc9d-4b0e-8fda-94d6d33aa27b"
      },
      "source": [
        "model.predict(xtest)"
      ],
      "execution_count": 40,
      "outputs": [
        {
          "output_type": "execute_result",
          "data": {
            "text/plain": [
              "array([125929.76643064,  85309.27957154,  98725.42324585,  46484.71255869,\n",
              "       128149.44889006,  52254.10608781, 108259.60604419, 100236.95511129,\n",
              "        97329.66211336, 112266.92446679, 128040.757999  , 173245.63315614,\n",
              "        93098.9917306 , 149431.70577454, 173241.12995982, 155245.82218748,\n",
              "        76307.67035448])"
            ]
          },
          "metadata": {
            "tags": []
          },
          "execution_count": 40
        }
      ]
    },
    {
      "cell_type": "code",
      "metadata": {
        "colab": {
          "base_uri": "https://localhost:8080/",
          "height": 0
        },
        "id": "MW7lsTTykSux",
        "outputId": "8acb1022-1306-41ab-a128-78855fc3a4be"
      },
      "source": [
        "ytest"
      ],
      "execution_count": 41,
      "outputs": [
        {
          "output_type": "execute_result",
          "data": {
            "text/plain": [
              "13    134307.35\n",
              "39     81005.76\n",
              "30     99937.59\n",
              "45     64926.08\n",
              "17    125370.37\n",
              "48     35673.41\n",
              "26    105733.54\n",
              "25    107404.34\n",
              "32     97427.84\n",
              "19    122776.86\n",
              "12    141585.52\n",
              "4     166187.94\n",
              "37     89949.14\n",
              "8     152211.77\n",
              "3     182901.99\n",
              "6     156122.51\n",
              "41     77798.83\n",
              "Name: Profit, dtype: float64"
            ]
          },
          "metadata": {
            "tags": []
          },
          "execution_count": 41
        }
      ]
    },
    {
      "cell_type": "code",
      "metadata": {
        "colab": {
          "base_uri": "https://localhost:8080/",
          "height": 265
        },
        "id": "Tm2YgSg7kVEs",
        "outputId": "312e9191-0c50-4392-8d23-cbb2f81acf83"
      },
      "source": [
        "plt.plot(ytest,color='red',marker= '+')\n",
        "plt.show()"
      ],
      "execution_count": 71,
      "outputs": [
        {
          "output_type": "display_data",
          "data": {
            "image/png": "[encoded data removed]",
            "text/plain": [
              "<Figure size 432x288 with 1 Axes>"
            ]
          },
          "metadata": {
            "tags": [],
            "needs_background": "light"
          }
        }
      ]
    },
    {
      "cell_type": "code",
      "metadata": {
        "colab": {
          "base_uri": "https://localhost:8080/",
          "height": 265
        },
        "id": "0pzEsfMFkive",
        "outputId": "f002e36d-31da-49d6-81fa-dcbaeeff4c97"
      },
      "source": [
        "plt.plot(x_predict,color='blue', marker ='+')\n",
        "plt.show()"
      ],
      "execution_count": 75,
      "outputs": [
        {
          "output_type": "display_data",
          "data": {
            "image/png": "[encoded data removed]",
            "text/plain": [
              "<Figure size 432x288 with 1 Axes>"
            ]
          },
          "metadata": {
            "tags": [],
            "needs_background": "light"
          }
        }
      ]
    },
    {
      "cell_type": "code",
      "metadata": {
        "id": "_egZGhebmADz"
      },
      "source": [
        "from sklearn import metrics"
      ],
      "execution_count": 74,
      "outputs": []
    },
    {
      "cell_type": "code",
      "metadata": {
        "colab": {
          "base_uri": "https://localhost:8080/",
          "height": 0
        },
        "id": "PLhCvrAHtL0t",
        "outputId": "29cb262a-5a21-40ff-9456-657170cdba6b"
      },
      "source": [
        "print('MAE : ', metrics.mean_absolute_error(x_predict,ytrain))\n",
        "print('MSE : ',metrics.mean_squared_error(x_predict,ytrain))\n",
        "print('RMSE :',np.sqrt(metrics.mean_squared_error(x_predict,ytrain)))"
      ],
      "execution_count": 80,
      "outputs": [
        {
          "output_type": "stream",
          "text": [
            "MAE :  6968.94319732929\n",
            "MSE :  86935643.70587039\n",
            "RMSE : 9323.928555382136\n"
          ],
          "name": "stdout"
        }
      ]
    },
    {
      "cell_type": "code",
      "metadata": {
        "colab": {
          "base_uri": "https://localhost:8080/",
          "height": 0
        },
        "id": "AYWOb31ZvBix",
        "outputId": "f6dc72d4-c638-4114-8762-3e560102eeb5"
      },
      "source": [
        "from sklearn.metrics import r2_score\n",
        "score = r2_score(x_predict,ytrain)\n",
        "print('Accuracy : ', score)"
      ],
      "execution_count": 82,
      "outputs": [
        {
          "output_type": "stream",
          "text": [
            "Accuracy :  0.9452750822670647\n"
          ],
          "name": "stdout"
        }
      ]
    },
    {
      "cell_type": "markdown",
      "metadata": {
        "id": "VNdQl85OwtWz"
      },
      "source": [
        "THE ACCURACY OF THE MODEL IS 94.52 % "
      ]
    }
  ]
}